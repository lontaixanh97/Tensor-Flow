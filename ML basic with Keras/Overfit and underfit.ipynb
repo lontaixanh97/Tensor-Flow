{
 "cells": [
  {
   "cell_type": "code",
   "execution_count": 1,
   "metadata": {},
   "outputs": [
    {
     "name": "stdout",
     "output_type": "stream",
     "text": [
      "2.0.0\n"
     ]
    }
   ],
   "source": [
    "from __future__ import absolute_import, division, print_function, unicode_literals\n",
    "\n",
    "import tensorflow as tf\n",
    "\n",
    "from tensorflow.keras import layers\n",
    "from tensorflow.keras import regularizers\n",
    "\n",
    "print(tf.__version__)"
   ]
  },
  {
   "cell_type": "code",
   "execution_count": 2,
   "metadata": {},
   "outputs": [],
   "source": [
    "\n",
    "import tensorflow_docs as tfdocs\n",
    "import tensorflow_docs.modeling\n",
    "import tensorflow_docs.plots"
   ]
  },
  {
   "cell_type": "code",
   "execution_count": 4,
   "metadata": {},
   "outputs": [],
   "source": [
    "from  IPython import display\n",
    "from matplotlib import pyplot as plt\n",
    "\n",
    "import numpy as np\n",
    "\n",
    "import pathlib\n",
    "import shutil\n",
    "import tempfile"
   ]
  },
  {
   "cell_type": "code",
   "execution_count": 5,
   "metadata": {},
   "outputs": [],
   "source": [
    "logdir = pathlib.Path(tempfile.mkdtemp())/\"tensorboard_logs\"\n",
    "shutil.rmtree(logdir, ignore_errors=True)"
   ]
  },
  {
   "cell_type": "code",
   "execution_count": 6,
   "metadata": {
    "scrolled": true
   },
   "outputs": [
    {
     "name": "stdout",
     "output_type": "stream",
     "text": [
      "Downloading data from https://archive.ics.uci.edu/ml/machine-learning-databases/00280/HIGGS.csv.gz\n",
      "2816409600/2816407858 [==============================] - 1682s 1us/step\n"
     ]
    }
   ],
   "source": [
    "gz = tf.keras.utils.get_file('HIGGS.csv.gz', 'https://archive.ics.uci.edu/ml/machine-learning-databases/00280/HIGGS.csv.gz')"
   ]
  },
  {
   "cell_type": "code",
   "execution_count": 8,
   "metadata": {},
   "outputs": [],
   "source": [
    "FEATURES = 28\n",
    "ds = tf.data.experimental.CsvDataset(gz,[float(),]*(FEATURES+1), compression_type=\"GZIP\")"
   ]
  },
  {
   "cell_type": "code",
   "execution_count": 9,
   "metadata": {},
   "outputs": [],
   "source": [
    "def pack_row(*row):\n",
    "  label = row[0]\n",
    "  features = tf.stack(row[1:],1)\n",
    "  return features, label"
   ]
  },
  {
   "cell_type": "code",
   "execution_count": 10,
   "metadata": {},
   "outputs": [],
   "source": [
    "packed_ds = ds.batch(10000).map(pack_row).unbatch()\n"
   ]
  },
  {
   "cell_type": "code",
   "execution_count": 11,
   "metadata": {},
   "outputs": [
    {
     "name": "stdout",
     "output_type": "stream",
     "text": [
      "tf.Tensor(\n",
      "[ 0.8692932  -0.6350818   0.22569026  0.32747006 -0.6899932   0.75420225\n",
      " -0.24857314 -1.0920639   0.          1.3749921  -0.6536742   0.9303491\n",
      "  1.1074361   1.1389043  -1.5781983  -1.0469854   0.          0.65792954\n",
      " -0.01045457 -0.04576717  3.1019614   1.35376     0.9795631   0.97807616\n",
      "  0.92000484  0.72165745  0.98875093  0.87667835], shape=(28,), dtype=float32)\n"
     ]
    },
    {
     "data": {
      "image/png": "[encoded data removed]",
      "text/plain": [
       "<Figure size 432x288 with 1 Axes>"
      ]
     },
     "metadata": {
      "needs_background": "light"
     },
     "output_type": "display_data"
    }
   ],
   "source": [
    "for features,label in packed_ds.batch(1000).take(1):\n",
    "  print(features[0])\n",
    "  plt.hist(features.numpy().flatten(), bins = 101)"
   ]
  },
  {
   "cell_type": "code",
   "execution_count": 12,
   "metadata": {},
   "outputs": [],
   "source": [
    "N_VALIDATION = int(1e3)\n",
    "N_TRAIN = int(1e4)\n",
    "BUFFER_SIZE = int(1e4)\n",
    "BATCH_SIZE = 500\n",
    "STEPS_PER_EPOCH = N_TRAIN//BATCH_SIZE"
   ]
  },
  {
   "cell_type": "code",
   "execution_count": 14,
   "metadata": {},
   "outputs": [
    {
     "data": {
      "text/plain": [
       "<CacheDataset shapes: ((28,), ()), types: (tf.float32, tf.float32)>"
      ]
     },
     "execution_count": 14,
     "metadata": {},
     "output_type": "execute_result"
    }
   ],
   "source": [
    "validate_ds = packed_ds.take(N_VALIDATION).cache()\n",
    "train_ds = packed_ds.skip(N_VALIDATION).take(N_TRAIN).cache()\n",
    "train_ds"
   ]
  },
  {
   "cell_type": "code",
   "execution_count": 15,
   "metadata": {},
   "outputs": [],
   "source": [
    "validate_ds = validate_ds.batch(BATCH_SIZE)\n",
    "train_ds = train_ds.shuffle(BUFFER_SIZE).repeat().batch(BATCH_SIZE)"
   ]
  },
  {
   "cell_type": "code",
   "execution_count": 16,
   "metadata": {},
   "outputs": [],
   "source": [
    "lr_schedule = tf.keras.optimizers.schedules.InverseTimeDecay(\n",
    "  0.001,\n",
    "  decay_steps=STEPS_PER_EPOCH*1000,\n",
    "  decay_rate=1,\n",
    "  staircase=False)\n",
    "\n",
    "def get_optimizer():\n",
    "  return tf.keras.optimizers.Adam(lr_schedule)"
   ]
  },
  {
   "cell_type": "code",
   "execution_count": 17,
   "metadata": {},
   "outputs": [
    {
     "data": {
      "image/png": "[encoded data removed]",
      "text/plain": [
       "<Figure size 576x432 with 1 Axes>"
      ]
     },
     "metadata": {
      "needs_background": "light"
     },
     "output_type": "display_data"
    }
   ],
   "source": [
    "step = np.linspace(0,100000)\n",
    "lr = lr_schedule(step)\n",
    "plt.figure(figsize = (8,6))\n",
    "plt.plot(step/STEPS_PER_EPOCH, lr)\n",
    "plt.ylim([0,max(plt.ylim())])\n",
    "plt.xlabel('Epoch')\n",
    "_ = plt.ylabel('Learning Rate')"
   ]
  },
  {
   "cell_type": "code",
   "execution_count": 18,
   "metadata": {},
   "outputs": [],
   "source": [
    "def get_callbacks(name):\n",
    "  return [\n",
    "    tfdocs.modeling.EpochDots(),\n",
    "    tf.keras.callbacks.EarlyStopping(monitor='val_binary_crossentropy', patience=200),\n",
    "    tf.keras.callbacks.TensorBoard(logdir/name),\n",
    "  ]"
   ]
  },
  {
   "cell_type": "code",
   "execution_count": 19,
   "metadata": {},
   "outputs": [],
   "source": [
    "def compile_and_fit(model, name, optimizer=None, max_epochs=10000):\n",
    "  if optimizer is None:\n",
    "    optimizer = get_optimizer()\n",
    "  model.compile(optimizer=optimizer,\n",
    "                loss='binary_crossentropy',\n",
    "                metrics=['accuracy', 'binary_crossentropy'])\n",
    "\n",
    "  model.summary()\n",
    "\n",
    "  history = model.fit(\n",
    "    train_ds,\n",
    "    steps_per_epoch = STEPS_PER_EPOCH,\n",
    "    epochs=max_epochs,\n",
    "    validation_data=validate_ds,\n",
    "    callbacks=get_callbacks(name),\n",
    "    verbose=0)\n",
    "  return history"
   ]
  },
  {
   "cell_type": "code",
   "execution_count": 20,
   "metadata": {},
   "outputs": [],
   "source": [
    "tiny_model = tf.keras.Sequential([\n",
    "    layers.Dense(16, activation='elu', input_shape=(FEATURES,)),\n",
    "    layers.Dense(1, activation='sigmoid')\n",
    "])"
   ]
  },
  {
   "cell_type": "code",
   "execution_count": 21,
   "metadata": {},
   "outputs": [],
   "source": [
    "size_histories = {}"
   ]
  },
  {
   "cell_type": "code",
   "execution_count": 22,
   "metadata": {},
   "outputs": [
    {
     "name": "stdout",
     "output_type": "stream",
     "text": [
      "Model: \"sequential\"\n",
      "_________________________________________________________________\n",
      "Layer (type)                 Output Shape              Param #   \n",
      "=================================================================\n",
      "dense (Dense)                (None, 16)                464       \n",
      "_________________________________________________________________\n",
      "dense_1 (Dense)              (None, 1)                 17        \n",
      "=================================================================\n",
      "Total params: 481\n",
      "Trainable params: 481\n",
      "Non-trainable params: 0\n",
      "_________________________________________________________________\n",
      "\n",
      "Epoch: 0, accuracy:0.4986,  binary_crossentropy:0.7481,  loss:0.7481,  val_accuracy:0.5000,  val_binary_crossentropy:0.7254,  val_loss:0.7254,  \n",
      "....................................................................................................\n",
      "Epoch: 100, accuracy:0.6408,  binary_crossentropy:0.6309,  loss:0.6309,  val_accuracy:0.6380,  val_binary_crossentropy:0.6305,  val_loss:0.6305,  \n",
      "....................................................................................................\n",
      "Epoch: 200, accuracy:0.6510,  binary_crossentropy:0.6244,  loss:0.6244,  val_accuracy:0.6420,  val_binary_crossentropy:0.6216,  val_loss:0.6216,  \n",
      "....................................................................................................\n",
      "Epoch: 300, accuracy:0.6602,  binary_crossentropy:0.6189,  loss:0.6189,  val_accuracy:0.6440,  val_binary_crossentropy:0.6184,  val_loss:0.6184,  \n",
      "....................................................................................................\n",
      "Epoch: 400, accuracy:0.6638,  binary_crossentropy:0.6149,  loss:0.6149,  val_accuracy:0.6450,  val_binary_crossentropy:0.6159,  val_loss:0.6159,  \n",
      "....................................................................................................\n",
      "Epoch: 500, accuracy:0.6696,  binary_crossentropy:0.6109,  loss:0.6109,  val_accuracy:0.6570,  val_binary_crossentropy:0.6139,  val_loss:0.6139,  \n",
      "....................................................................................................\n",
      "Epoch: 600, accuracy:0.6741,  binary_crossentropy:0.6077,  loss:0.6077,  val_accuracy:0.6620,  val_binary_crossentropy:0.6108,  val_loss:0.6108,  \n",
      "....................................................................................................\n",
      "Epoch: 700, accuracy:0.6774,  binary_crossentropy:0.6033,  loss:0.6033,  val_accuracy:0.6690,  val_binary_crossentropy:0.6098,  val_loss:0.6098,  \n",
      "....................................................................................................\n",
      "Epoch: 800, accuracy:0.6812,  binary_crossentropy:0.6000,  loss:0.6000,  val_accuracy:0.6700,  val_binary_crossentropy:0.6032,  val_loss:0.6032,  \n",
      "....................................................................................................\n",
      "Epoch: 900, accuracy:0.6858,  binary_crossentropy:0.5958,  loss:0.5958,  val_accuracy:0.6770,  val_binary_crossentropy:0.5992,  val_loss:0.5992,  \n",
      "....................................................................................................\n",
      "Epoch: 1000, accuracy:0.6900,  binary_crossentropy:0.5929,  loss:0.5929,  val_accuracy:0.6850,  val_binary_crossentropy:0.5981,  val_loss:0.5981,  \n",
      "....................................................................................................\n",
      "Epoch: 1100, accuracy:0.6927,  binary_crossentropy:0.5902,  loss:0.5902,  val_accuracy:0.6850,  val_binary_crossentropy:0.5958,  val_loss:0.5958,  \n",
      "....................................................................................................\n",
      "Epoch: 1200, accuracy:0.6916,  binary_crossentropy:0.5881,  loss:0.5881,  val_accuracy:0.6820,  val_binary_crossentropy:0.5941,  val_loss:0.5941,  \n",
      "....................................................................................................\n",
      "Epoch: 1300, accuracy:0.6921,  binary_crossentropy:0.5863,  loss:0.5863,  val_accuracy:0.6870,  val_binary_crossentropy:0.5941,  val_loss:0.5941,  \n",
      "....................................................................................................\n",
      "Epoch: 1400, accuracy:0.6947,  binary_crossentropy:0.5848,  loss:0.5848,  val_accuracy:0.6870,  val_binary_crossentropy:0.5920,  val_loss:0.5920,  \n",
      "....................................................................................................\n",
      "Epoch: 1500, accuracy:0.6924,  binary_crossentropy:0.5838,  loss:0.5838,  val_accuracy:0.6860,  val_binary_crossentropy:0.5928,  val_loss:0.5928,  \n",
      "....................................................................................................\n",
      "Epoch: 1600, accuracy:0.6970,  binary_crossentropy:0.5821,  loss:0.5821,  val_accuracy:0.6910,  val_binary_crossentropy:0.5914,  val_loss:0.5914,  \n",
      "....................................................................................................\n",
      "Epoch: 1700, accuracy:0.6969,  binary_crossentropy:0.5811,  loss:0.5811,  val_accuracy:0.6920,  val_binary_crossentropy:0.5901,  val_loss:0.5901,  \n",
      "....................................................................................................\n",
      "Epoch: 1800, accuracy:0.6983,  binary_crossentropy:0.5799,  loss:0.5799,  val_accuracy:0.6920,  val_binary_crossentropy:0.5913,  val_loss:0.5913,  \n",
      "....................................................................................................\n",
      "Epoch: 1900, accuracy:0.6995,  binary_crossentropy:0.5789,  loss:0.5789,  val_accuracy:0.6870,  val_binary_crossentropy:0.5888,  val_loss:0.5888,  \n",
      "....................................................................................................\n",
      "Epoch: 2000, accuracy:0.7010,  binary_crossentropy:0.5783,  loss:0.5783,  val_accuracy:0.6830,  val_binary_crossentropy:0.5879,  val_loss:0.5879,  \n",
      "....................................................................................................\n",
      "Epoch: 2100, accuracy:0.7028,  binary_crossentropy:0.5780,  loss:0.5780,  val_accuracy:0.6850,  val_binary_crossentropy:0.5874,  val_loss:0.5874,  \n",
      "....................................................................................................\n",
      "Epoch: 2200, accuracy:0.7014,  binary_crossentropy:0.5769,  loss:0.5769,  val_accuracy:0.6930,  val_binary_crossentropy:0.5887,  val_loss:0.5887,  \n",
      "....................................................................................................\n",
      "Epoch: 2300, accuracy:0.7027,  binary_crossentropy:0.5762,  loss:0.5762,  val_accuracy:0.6940,  val_binary_crossentropy:0.5877,  val_loss:0.5877,  \n",
      "....................................................................................................\n",
      "Epoch: 2400, accuracy:0.7045,  binary_crossentropy:0.5755,  loss:0.5755,  val_accuracy:0.6920,  val_binary_crossentropy:0.5867,  val_loss:0.5867,  \n",
      "....................................................................................................\n",
      "Epoch: 2500, accuracy:0.7045,  binary_crossentropy:0.5754,  loss:0.5754,  val_accuracy:0.6920,  val_binary_crossentropy:0.5863,  val_loss:0.5863,  \n",
      "....................................................................................................\n",
      "Epoch: 2600, accuracy:0.7043,  binary_crossentropy:0.5747,  loss:0.5747,  val_accuracy:0.6940,  val_binary_crossentropy:0.5860,  val_loss:0.5860,  \n",
      "....................................................................................................\n",
      "Epoch: 2700, accuracy:0.7042,  binary_crossentropy:0.5739,  loss:0.5739,  val_accuracy:0.6940,  val_binary_crossentropy:0.5857,  val_loss:0.5857,  \n",
      "....................................................................................................\n",
      "Epoch: 2800, accuracy:0.7054,  binary_crossentropy:0.5736,  loss:0.5736,  val_accuracy:0.6960,  val_binary_crossentropy:0.5866,  val_loss:0.5866,  \n",
      "....................................................................................................\n",
      "Epoch: 2900, accuracy:0.7053,  binary_crossentropy:0.5732,  loss:0.5732,  val_accuracy:0.6930,  val_binary_crossentropy:0.5846,  val_loss:0.5846,  \n",
      "....................................................................................................\n",
      "Epoch: 3000, accuracy:0.7042,  binary_crossentropy:0.5730,  loss:0.5730,  val_accuracy:0.6930,  val_binary_crossentropy:0.5851,  val_loss:0.5851,  \n"
     ]
    },
    {
     "name": "stdout",
     "output_type": "stream",
     "text": [
      "....................................................................................................\n",
      "Epoch: 3100, accuracy:0.7063,  binary_crossentropy:0.5725,  loss:0.5725,  val_accuracy:0.6970,  val_binary_crossentropy:0.5851,  val_loss:0.5851,  \n",
      "....................................................................................................\n",
      "Epoch: 3200, accuracy:0.7063,  binary_crossentropy:0.5722,  loss:0.5722,  val_accuracy:0.6980,  val_binary_crossentropy:0.5847,  val_loss:0.5847,  \n",
      "....................................................................................................\n",
      "Epoch: 3300, accuracy:0.7062,  binary_crossentropy:0.5719,  loss:0.5719,  val_accuracy:0.6990,  val_binary_crossentropy:0.5851,  val_loss:0.5851,  \n",
      "....................................................................................................\n",
      "Epoch: 3400, accuracy:0.7069,  binary_crossentropy:0.5717,  loss:0.5717,  val_accuracy:0.6940,  val_binary_crossentropy:0.5836,  val_loss:0.5836,  \n",
      "....................................................................................................\n",
      "Epoch: 3500, accuracy:0.7060,  binary_crossentropy:0.5713,  loss:0.5713,  val_accuracy:0.6950,  val_binary_crossentropy:0.5838,  val_loss:0.5838,  \n",
      "....................................................................................................\n",
      "Epoch: 3600, accuracy:0.7066,  binary_crossentropy:0.5711,  loss:0.5711,  val_accuracy:0.6970,  val_binary_crossentropy:0.5836,  val_loss:0.5836,  \n",
      "....................................................................................................\n",
      "Epoch: 3700, accuracy:0.7064,  binary_crossentropy:0.5710,  loss:0.5710,  val_accuracy:0.6940,  val_binary_crossentropy:0.5847,  val_loss:0.5847,  \n",
      "....................................................................................................\n",
      "Epoch: 3800, accuracy:0.7067,  binary_crossentropy:0.5706,  loss:0.5706,  val_accuracy:0.6960,  val_binary_crossentropy:0.5832,  val_loss:0.5832,  \n",
      "....................................................................................................\n",
      "Epoch: 3900, accuracy:0.7077,  binary_crossentropy:0.5702,  loss:0.5702,  val_accuracy:0.6960,  val_binary_crossentropy:0.5838,  val_loss:0.5838,  \n",
      "....................................................................................................\n",
      "Epoch: 4000, accuracy:0.7064,  binary_crossentropy:0.5701,  loss:0.5701,  val_accuracy:0.6950,  val_binary_crossentropy:0.5833,  val_loss:0.5833,  \n",
      "....................................................................................................\n",
      "Epoch: 4100, accuracy:0.7081,  binary_crossentropy:0.5701,  loss:0.5701,  val_accuracy:0.6930,  val_binary_crossentropy:0.5827,  val_loss:0.5827,  \n",
      "....................................................................................................\n",
      "Epoch: 4200, accuracy:0.7066,  binary_crossentropy:0.5697,  loss:0.5697,  val_accuracy:0.6930,  val_binary_crossentropy:0.5829,  val_loss:0.5829,  \n",
      "....................................................................................................\n",
      "Epoch: 4300, accuracy:0.7064,  binary_crossentropy:0.5696,  loss:0.5696,  val_accuracy:0.6920,  val_binary_crossentropy:0.5829,  val_loss:0.5829,  \n",
      "....................................................................................................\n",
      "Epoch: 4400, accuracy:0.7094,  binary_crossentropy:0.5695,  loss:0.5695,  val_accuracy:0.6940,  val_binary_crossentropy:0.5824,  val_loss:0.5824,  \n",
      "....................................................................................................\n",
      "Epoch: 4500, accuracy:0.7081,  binary_crossentropy:0.5693,  loss:0.5693,  val_accuracy:0.6940,  val_binary_crossentropy:0.5830,  val_loss:0.5830,  \n",
      "....................................................................................................\n",
      "Epoch: 4600, accuracy:0.7072,  binary_crossentropy:0.5689,  loss:0.5689,  val_accuracy:0.6920,  val_binary_crossentropy:0.5822,  val_loss:0.5822,  \n",
      "....................................................................................................\n",
      "Epoch: 4700, accuracy:0.7070,  binary_crossentropy:0.5689,  loss:0.5689,  val_accuracy:0.6940,  val_binary_crossentropy:0.5829,  val_loss:0.5829,  \n",
      "....................................................................................................\n",
      "Epoch: 4800, accuracy:0.7078,  binary_crossentropy:0.5688,  loss:0.5688,  val_accuracy:0.6910,  val_binary_crossentropy:0.5829,  val_loss:0.5829,  \n",
      "....................................................................................................\n",
      "Epoch: 4900, accuracy:0.7078,  binary_crossentropy:0.5684,  loss:0.5684,  val_accuracy:0.6920,  val_binary_crossentropy:0.5822,  val_loss:0.5822,  \n",
      "....................................................................................................\n",
      "Epoch: 5000, accuracy:0.7099,  binary_crossentropy:0.5684,  loss:0.5684,  val_accuracy:0.6910,  val_binary_crossentropy:0.5822,  val_loss:0.5822,  \n",
      "....................................................................................................\n",
      "Epoch: 5100, accuracy:0.7095,  binary_crossentropy:0.5681,  loss:0.5681,  val_accuracy:0.6910,  val_binary_crossentropy:0.5822,  val_loss:0.5822,  \n",
      "....................................................................................................\n",
      "Epoch: 5200, accuracy:0.7082,  binary_crossentropy:0.5679,  loss:0.5679,  val_accuracy:0.6910,  val_binary_crossentropy:0.5817,  val_loss:0.5817,  \n",
      ".."
     ]
    }
   ],
   "source": [
    "size_histories['Tiny'] = compile_and_fit(tiny_model, 'sizes/Tiny')"
   ]
  },
  {
   "cell_type": "code",
   "execution_count": null,
   "metadata": {},
   "outputs": [],
   "source": []
  }
 ],
 "metadata": {
  "kernelspec": {
   "display_name": "Python 3",
   "language": "python",
   "name": "python3"
  },
  "language_info": {
   "codemirror_mode": {
    "name": "ipython",
    "version": 3
   },
   "file_extension": ".py",
   "mimetype": "text/x-python",
   "name": "python",
   "nbconvert_exporter": "python",
   "pygments_lexer": "ipython3",
   "version": "3.6.9"
  }
 },
 "nbformat": 4,
 "nbformat_minor": 2
}
