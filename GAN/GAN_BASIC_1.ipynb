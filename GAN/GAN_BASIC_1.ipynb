{
 "cells": [
  {
   "cell_type": "markdown",
   "metadata": {},
   "source": [
    "# GAN?\n",
    "GAN là mô hình tạo ra dữ liệu mới từ dữ liệu đã có."
   ]
  },
  {
   "cell_type": "markdown",
   "metadata": {},
   "source": [
    "## Generator and discriminator\n",
    "Trong GAN bao gồm 2 mô hình network là **Generator** và **discriminator** \n"
   ]
  },
  {
   "cell_type": "markdown",
   "metadata": {},
   "source": [
    "<img src=\"images/1-1.png\">"
   ]
  },
  {
   "cell_type": "markdown",
   "metadata": {},
   "source": [
    "Dễ hiểu thì Generator và Discriminator trong GAN giống như là tên trộm sản xuất tiền giả và cảnh sát phát hiện tiền giả vậy. Tên trộm thì cố gắng tạo ra tiền giả sao cho giống tiền thật nhất có thể để có thể đưa vào sử dụng. Còn cảnh sát thì cugnf lúc muốn xác định được đâu là tiền giả và đâu là tiền thật. 2 mô hình network hoạt động song song đồng thời dẫn đến việc tiền giả ngày càng giống tiền thật, và cảnh sát càng lúc lại càng phát hiện đk rõ ràng. Từ đó kéo tới việc tiền giả sinh ra sẽ gần như giống hệt tiền thaatj"
   ]
  },
  {
   "cell_type": "markdown",
   "metadata": {},
   "source": [
    "### Generator\n",
    "Nó thực hiện nhiều cấu trúc chuyển đổi để biến noise z thành hình ảnh x. Chúng ta có thể xem nó như là phân loại học tập sâu theo hướng ngược lại.\n",
    "<img src=\"images/generator.png\">\n",
    "Nhưng đầu vào là noise z được generator tạo ra ngẫu nhiên. Để cải thiện điều này thì GAN tạo ra Discriminator cũng cấp những phản hồi để sau quá trình học kết quả cho ra giống với dữ liệu gốc nhất có thể \n",
    "<img src=\"images/GAN-modle.png\">\n",
    "Đào tạo Discriminator giống như một phân loại mạng sâu. Nếu đầu vào là có thật, chúng tôi muốn D(x) = 1. Nếu nó được tạo ra, nó sẽ bằng không. Thông qua quá trình này, Discriminator xác định các tính năng đóng góp cho hình ảnh thực.\n",
    "\n",
    "GAN đào tạo cả hai mạng theo các bước xen kẽ và đưa chúng vào một cuộc cạnh tranh khốc liệt để cải thiện bản thân. Khi hội tụ, GAN sẽ cho ra những bức ảnh giống với những ảnh thật "
   ]
  },
  {
   "cell_type": "markdown",
   "metadata": {},
   "source": [
    "## Backpropagation"
   ]
  },
  {
   "cell_type": "markdown",
   "metadata": {},
   "source": [
    "Outputs của Discriminator là giá trị D(x) đưa ra xác xuất x là ảnh thật. Mục tiêu là tối đa hóa khả năng nhật ra ảnh là thật của Discriminator. Để tính toán hàm mất mát, chúng tôi sử dụng **cross-entropy** trong hầu hết Deep Learning: **p*log(q)**.\n",
    "\n",
    "Đối với ảnh thật, p(nhãn của ảnh thật) sẽ là 1. \n",
    "<img src=\"images/objective.png\">\n",
    "Sau khi định nghĩa hàm mục tiêu, chúng ta sử dụng gradient descent để train 2 mô hình xen kẽ nhau. \n",
    "<img src=\"images/both-train.jpeg\">\n"
   ]
  },
  {
   "cell_type": "markdown",
   "metadata": {},
   "source": [
    "Tuy nhiên, Discriminator thường tối ưu nhanh hơn so với Genereator. Vì thế cần phương pháp làm cho độ dốc của gradient descent biến mất, hàm này sẽ tối ưu chậm và generator sẽ đuổi kịp được Discriminator "
   ]
  },
  {
   "cell_type": "code",
   "execution_count": null,
   "metadata": {},
   "outputs": [],
   "source": []
  }
 ],
 "metadata": {
  "kernelspec": {
   "display_name": "Python 3",
   "language": "python",
   "name": "python3"
  },
  "language_info": {
   "codemirror_mode": {
    "name": "ipython",
    "version": 3
   },
   "file_extension": ".py",
   "mimetype": "text/x-python",
   "name": "python",
   "nbconvert_exporter": "python",
   "pygments_lexer": "ipython3",
   "version": "3.6.9"
  }
 },
 "nbformat": 4,
 "nbformat_minor": 2
}
